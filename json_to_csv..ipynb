{
 "cells": [
  {
   "cell_type": "code",
   "execution_count": 1,
   "metadata": {},
   "outputs": [],
   "source": [
    "import sys\n",
    "import json\n",
    "import csv"
   ]
  },
  {
   "cell_type": "code",
   "execution_count": 6,
   "metadata": {},
   "outputs": [],
   "source": [
    "# set json file path\n",
    "json_file_path = \"cleaned_twitter_elections_data.json\""
   ]
  },
  {
   "cell_type": "code",
   "execution_count": 7,
   "metadata": {},
   "outputs": [],
   "source": [
    "tw_header = ['id', 'screen_name', 'place', 'country_code', 'user_location', 'name', 'text', 'created_at', 'is_quoted', \"source\",\n",
    "             'q_id', 'q_screen_name', 'q_name', 'q_text', 'q_created_at', 'q_source']"
   ]
  },
  {
   "cell_type": "code",
   "execution_count": 9,
   "metadata": {},
   "outputs": [
    {
     "name": "stdout",
     "output_type": "stream",
     "text": [
      "Inconsistency: 'retweeted_status'\n",
      "Inconsistency at 1015954219059249154\n",
      "Inconsistency: 'retweeted_status'\n",
      "Inconsistency at 1015952428150284289\n",
      "Inconsistency: 'retweeted_status'\n",
      "Inconsistency at 1015591003661701120\n",
      "\n",
      "Saved csv with 29579 rows\n"
     ]
    }
   ],
   "source": [
    "# csv file name\n",
    "csv_writer_t = csv.writer(open(\"status.csv\", \"w\"))\n",
    "\n",
    "csv_writer_t.writerow(tw_header)\n",
    "\n",
    "\n",
    "data = json.load(open(json_file_path))\n",
    "\n",
    "data_t = {}\n",
    "\n",
    "total_tweets = 0\n",
    "for t in data:\n",
    "    for i in tw_header:\n",
    "        data_t[i] = None\n",
    "    try:\n",
    "        data_t['id'] = t['id_str']\n",
    "        data_t['screen_name'] = t['user']['screen_name']\n",
    "        data_t['name'] = t['user']['name']\n",
    "        data_t['text'] = t['text']\n",
    "        data_t['created_at'] = t['created_at']\n",
    "        data_t['is_quoted'] = t['is_quote_status']\n",
    "        data_t['source'] = t['source']\n",
    "        if t['place']:\n",
    "            data_t['place'] = t['place']['full_name']\n",
    "            data_t['country_code'] = t['place']['country_code']\n",
    "        data_t['user_location'] = t['user']['location']\n",
    "        if t['is_quote_status']:\n",
    "            if t.get('quoted_status'):\n",
    "                r = 'quoted_status'\n",
    "            else:\n",
    "                r = \"retweeted_status\"\n",
    "            data_t['q_id'] = t[r]['id_str']\n",
    "            data_t['q_screen_name'] = t[r]['user']['screen_name']\n",
    "            data_t['q_name'] = t[r]['user']['name']\n",
    "            data_t['q_text'] = t[r]['text']\n",
    "            data_t['q_created_at'] = t[r]['created_at']\n",
    "            data_t['q_source'] = t[r]['source']\n",
    "    except Exception as e:\n",
    "        data_t['is_quoted'] = False\n",
    "        print(\"Inconsistency: \" + str(e))\n",
    "        print(\"Inconsistency at {}\".format(t['id']))\n",
    "    csv_writer_t.writerow(data_t.values())\n",
    "    total_tweets+=1\n",
    "    \n",
    "print(\"\\nSaved csv with {} rows\".format(total_tweets))\n"
   ]
  },
  {
   "cell_type": "code",
   "execution_count": null,
   "metadata": {},
   "outputs": [],
   "source": []
  }
 ],
 "metadata": {
  "kernelspec": {
   "display_name": "Python 3",
   "language": "python",
   "name": "python3"
  },
  "language_info": {
   "codemirror_mode": {
    "name": "ipython",
    "version": 3
   },
   "file_extension": ".py",
   "mimetype": "text/x-python",
   "name": "python",
   "nbconvert_exporter": "python",
   "pygments_lexer": "ipython3",
   "version": "3.6.5"
  }
 },
 "nbformat": 4,
 "nbformat_minor": 2
}
